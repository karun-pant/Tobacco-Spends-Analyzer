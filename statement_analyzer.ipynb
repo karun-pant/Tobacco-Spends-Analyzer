{
 "cells": [
  {
   "cell_type": "code",
   "execution_count": null,
   "metadata": {},
   "outputs": [],
   "source": [
    "pip install --upgrade pip"
   ]
  },
  {
   "cell_type": "code",
   "execution_count": null,
   "metadata": {},
   "outputs": [],
   "source": [
    "!pip install pandas\n",
    "!pip install openpyxl"
   ]
  },
  {
   "cell_type": "code",
   "execution_count": 11,
   "metadata": {},
   "outputs": [],
   "source": [
    "import pandas as pd\n",
    "from IPython.display import display, Markdown\n",
    "pd.set_option('display.max_columns', None)  # Show all columns\n",
    "pd.set_option('display.max_rows', None)     # Show all rows (use with caution)\n",
    "pd.set_option('display.max_colwidth', None) # Show full content of each column\n",
    "pd.set_option('expand_frame_repr', False)   # Prevent line wrapping"
   ]
  },
  {
   "cell_type": "markdown",
   "metadata": {},
   "source": [
    "## Add your statement to current working directory in csv format and rename it to statement.csv"
   ]
  },
  {
   "cell_type": "code",
   "execution_count": null,
   "metadata": {},
   "outputs": [],
   "source": [
    "# Load statement CSV\n",
    "file_path = 'statement.csv'\n",
    "df = pd.read_csv(file_path)\n",
    "display(df.head)"
   ]
  },
  {
   "cell_type": "markdown",
   "metadata": {},
   "source": [
    "## Data Cleanup Phase\n",
    "- **Clean up your statement  as it may contain some rows on top and bottom which may contain some meta data like your name, statement date, your account number etc.**"
   ]
  },
  {
   "cell_type": "code",
   "execution_count": null,
   "metadata": {},
   "outputs": [],
   "source": [
    "# Remove the first 19 rows which may contain metadata\n",
    "df = df.iloc[19:]\n",
    "\n",
    "# Set the first row as the header\n",
    "df.columns = df.iloc[0]\n",
    "\n",
    "# Remove the header row from the DataFrame\n",
    "df = df.iloc[1:]\n",
    "\n",
    "# Reset the index of the DataFrame\n",
    "df = df[1:].reset_index(drop=True)\n",
    "\n",
    "# Keep only the 4th and 1st columns\n",
    "df = df.iloc[:, [4, 1]]\n",
    "\n",
    "# Define column names for amount and description\n",
    "amount_col = 'amount'\n",
    "description_col = 'description'\n",
    "\n",
    "# Rename columns \"Narration\" to \"description\" and \"Withdrawal Amt.\" to \"amount\"\n",
    "df = df.rename(columns={\"Narration\": description_col, \"Withdrawal Amt.\": amount_col})\n",
    "\n",
    "# Display the first 5 rows of the DataFrame\n",
    "display(df.head(5))\n",
    "\n",
    "# Display the column names of the DataFrame\n",
    "display(df.columns)"
   ]
  },
  {
   "cell_type": "markdown",
   "metadata": {},
   "source": [
    "## Update tobacco_sellers with your regular pan walas"
   ]
  },
  {
   "cell_type": "code",
   "execution_count": null,
   "metadata": {},
   "outputs": [],
   "source": [
    "# Check that meta data has been removed and column names are correct.\n",
    "display(df[description_col].head(3))\n",
    "display(df[amount_col].head(3))"
   ]
  },
  {
   "cell_type": "markdown",
   "metadata": {},
   "source": [
    "### Create a file named **tobacco_sellers.txt** with the following content:\n",
    "Name 1 <br>\n",
    "Name 2 <br>\n",
    "Name 3 <br>"
   ]
  },
  {
   "cell_type": "code",
   "execution_count": null,
   "metadata": {},
   "outputs": [],
   "source": [
    "# with open('tobacco_sellers.txt', 'r') as file:\n",
    "#     tobacco_sellers = [line.strip() for line in file.readlines()]\n",
    "    \n",
    "def read_file_to_array(file_name):\n",
    "    \"\"\"\n",
    "    Reads a file and returns a list containing each line as an element.\n",
    "    \n",
    "    :param file_name: str - Name of the file to read\n",
    "    :return: list - List of lines from the file without newline characters\n",
    "    \"\"\"\n",
    "    try:\n",
    "        with open(file_name, 'r', encoding='utf-8') as file:\n",
    "            return [line.strip() for line in file.readlines()]\n",
    "    except FileNotFoundError:\n",
    "        print(f\"Error: File '{file_name}' not found.\")\n",
    "        return []\n",
    "    except Exception as e:\n",
    "        print(f\"An error occurred: {e}\")\n",
    "        return []\n",
    "\n",
    "# Example usage:\n",
    "# tobacco_sellers = read_file_to_array('tobacco_sellers.txt')\n",
    "# print(tobacco_sellers)\n",
    "tobacco_sellers = read_file_to_array('tobacco_sellers.txt')\n",
    "print(tobacco_sellers)\n",
    "\n",
    "tobacco_keyword = \"pan wala\""
   ]
  },
  {
   "cell_type": "code",
   "execution_count": null,
   "metadata": {},
   "outputs": [],
   "source": [
    "# Replace occurrences of tobacco-related keywords in narration with \"pan wala\" (case insensitive)\n",
    "def replace_tobacco_sellers(text):\n",
    "    text_lower = text.lower()\n",
    "    for seller in tobacco_sellers:\n",
    "        if seller.lower() in text_lower:\n",
    "            text_lower = text_lower.replace(seller.lower(), \"pan wala\")\n",
    "    return text_lower\n",
    "\n",
    "df[description_col] = df[description_col].astype(str).apply(replace_tobacco_sellers)\n",
    "display(df.head(5))"
   ]
  },
  {
   "cell_type": "markdown",
   "metadata": {},
   "source": [
    "### We might need to remove some transactions later on for items matching \"pan wala\" somehow in the list.\n",
    "#### Create a file named **valid_non_tobacco_sellers.txt** with the following content:\n",
    "Name 1 <br>\n",
    "Name 2 <br>\n",
    "Name 3 <br>"
   ]
  },
  {
   "cell_type": "code",
   "execution_count": null,
   "metadata": {},
   "outputs": [],
   "source": [
    "\n",
    "# Ensure column names are lowercase for consistency\n",
    "df.columns = df.columns.str.lower()\n",
    "\n",
    "\n",
    "if amount_col in df.columns:\n",
    "    df = df.dropna(subset=[amount_col])\n",
    "    df[amount_col] = pd.to_numeric(df[amount_col], errors='coerce')\n",
    "    \n",
    "# Define removable items\n",
    "removable_items = read_file_to_array('valid_non_tobacco_sellers.txt')\n",
    "\n",
    "# Remove items containing any of the removable items\n",
    "df = df[~df.apply(lambda row: row.astype(str).str.contains('|'.join(removable_items), case=False, na=False).any(), axis=1)]\n",
    "\n",
    "def contains_tobacco(row):\n",
    "    return any(keyword in str(row.get(description_col, \"\")).lower() for keyword in [tobacco_keyword])\n",
    "\n",
    "tobacco_spends = df[df.apply(contains_tobacco, axis=1)]\n",
    "display(tobacco_spends.head(2))\n",
    "# Calculate total amount spent\n",
    "total_spent = tobacco_spends[amount_col].sum()\n",
    "display(Markdown(f\"# Total amount spent on tobacco-related purchases: {total_spent}\"))"
   ]
  },
  {
   "cell_type": "code",
   "execution_count": 19,
   "metadata": {},
   "outputs": [],
   "source": [
    "tobacco_spends.to_csv('tobacco_spends.csv', index=False)"
   ]
  },
  {
   "cell_type": "markdown",
   "metadata": {},
   "source": [
    "### Your tobacco_spends are saved to tobacco_spends.csv"
   ]
  },
  {
   "cell_type": "markdown",
   "metadata": {},
   "source": []
  }
 ],
 "metadata": {
  "kernelspec": {
   "display_name": "Python 3",
   "language": "python",
   "name": "python3"
  },
  "language_info": {
   "codemirror_mode": {
    "name": "ipython",
    "version": 3
   },
   "file_extension": ".py",
   "mimetype": "text/x-python",
   "name": "python",
   "nbconvert_exporter": "python",
   "pygments_lexer": "ipython3",
   "version": "3.12.0"
  }
 },
 "nbformat": 4,
 "nbformat_minor": 2
}
